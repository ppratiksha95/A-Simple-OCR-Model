{
 "cells": [
  {
   "cell_type": "markdown",
   "metadata": {
    "id": "xJIRFZJE722e"
   },
   "source": [
    "# Data Preparation\n",
    "\n"
   ]
  },
  {
   "cell_type": "markdown",
   "metadata": {
    "id": "sEmPP5QGYOFs"
   },
   "source": [
    "We import all the required libraries."
   ]
  },
  {
   "cell_type": "code",
   "execution_count": 1,
   "metadata": {
    "id": "YFFIWXE_1Jqw"
   },
   "outputs": [],
   "source": [
    "import matplotlib.pyplot as plt\n",
    "import cv2\n",
    "import numpy as np\n",
    "from tensorflow import keras\n",
    "from keras.models import Sequential\n",
    "from keras.layers import Dense, Flatten, Conv2D, MaxPool2D, Dropout\n",
    "from keras.optimizers import SGD, Adam\n",
    "from keras.callbacks import ReduceLROnPlateau, EarlyStopping\n",
    "from keras.utils import to_categorical\n",
    "import pandas as pd\n",
    "import numpy as np\n",
    "from sklearn.model_selection import train_test_split\n",
    "from sklearn.utils import shuffle"
   ]
  },
  {
   "cell_type": "markdown",
   "metadata": {
    "id": "2QKf-Kcy8fDi"
   },
   "source": [
    "# Dataset"
   ]
  },
  {
   "cell_type": "markdown",
   "metadata": {
    "id": "h1rexSsYXiun"
   },
   "source": [
    "The dataset used has 372450 images of alphabets of 28×28 pixels, as a CSV file: https://www.kaggle.com/sachinpatel21/az-handwritten-alphabets-in-csv-format. The CSV file is in the same folder as the Jupyter Notebook."
   ]
  },
  {
   "cell_type": "markdown",
   "metadata": {
    "id": "7PARSCivX5Tu"
   },
   "source": [
    "# Read the data\n",
    "\n",
    "We read the csv file into a dataframe."
   ]
  },
  {
   "cell_type": "code",
   "execution_count": 2,
   "metadata": {
    "colab": {
     "base_uri": "https://localhost:8080/",
     "height": 392
    },
    "id": "SZ36HUen1zZf",
    "outputId": "e55aeed4-8052-4894-f5c6-462fb3f5c3b3"
   },
   "outputs": [
    {
     "data": {
      "text/html": [
       "<div>\n",
       "<style scoped>\n",
       "    .dataframe tbody tr th:only-of-type {\n",
       "        vertical-align: middle;\n",
       "    }\n",
       "\n",
       "    .dataframe tbody tr th {\n",
       "        vertical-align: top;\n",
       "    }\n",
       "\n",
       "    .dataframe thead th {\n",
       "        text-align: right;\n",
       "    }\n",
       "</style>\n",
       "<table border=\"1\" class=\"dataframe\">\n",
       "  <thead>\n",
       "    <tr style=\"text-align: right;\">\n",
       "      <th></th>\n",
       "      <th>0</th>\n",
       "      <th>0.1</th>\n",
       "      <th>0.2</th>\n",
       "      <th>0.3</th>\n",
       "      <th>0.4</th>\n",
       "      <th>0.5</th>\n",
       "      <th>0.6</th>\n",
       "      <th>0.7</th>\n",
       "      <th>0.8</th>\n",
       "      <th>0.9</th>\n",
       "      <th>...</th>\n",
       "      <th>0.639</th>\n",
       "      <th>0.640</th>\n",
       "      <th>0.641</th>\n",
       "      <th>0.642</th>\n",
       "      <th>0.643</th>\n",
       "      <th>0.644</th>\n",
       "      <th>0.645</th>\n",
       "      <th>0.646</th>\n",
       "      <th>0.647</th>\n",
       "      <th>0.648</th>\n",
       "    </tr>\n",
       "  </thead>\n",
       "  <tbody>\n",
       "    <tr>\n",
       "      <th>0</th>\n",
       "      <td>0</td>\n",
       "      <td>0</td>\n",
       "      <td>0</td>\n",
       "      <td>0</td>\n",
       "      <td>0</td>\n",
       "      <td>0</td>\n",
       "      <td>0</td>\n",
       "      <td>0</td>\n",
       "      <td>0</td>\n",
       "      <td>0</td>\n",
       "      <td>...</td>\n",
       "      <td>0</td>\n",
       "      <td>0</td>\n",
       "      <td>0</td>\n",
       "      <td>0</td>\n",
       "      <td>0</td>\n",
       "      <td>0</td>\n",
       "      <td>0</td>\n",
       "      <td>0</td>\n",
       "      <td>0</td>\n",
       "      <td>0</td>\n",
       "    </tr>\n",
       "    <tr>\n",
       "      <th>1</th>\n",
       "      <td>0</td>\n",
       "      <td>0</td>\n",
       "      <td>0</td>\n",
       "      <td>0</td>\n",
       "      <td>0</td>\n",
       "      <td>0</td>\n",
       "      <td>0</td>\n",
       "      <td>0</td>\n",
       "      <td>0</td>\n",
       "      <td>0</td>\n",
       "      <td>...</td>\n",
       "      <td>0</td>\n",
       "      <td>0</td>\n",
       "      <td>0</td>\n",
       "      <td>0</td>\n",
       "      <td>0</td>\n",
       "      <td>0</td>\n",
       "      <td>0</td>\n",
       "      <td>0</td>\n",
       "      <td>0</td>\n",
       "      <td>0</td>\n",
       "    </tr>\n",
       "    <tr>\n",
       "      <th>2</th>\n",
       "      <td>0</td>\n",
       "      <td>0</td>\n",
       "      <td>0</td>\n",
       "      <td>0</td>\n",
       "      <td>0</td>\n",
       "      <td>0</td>\n",
       "      <td>0</td>\n",
       "      <td>0</td>\n",
       "      <td>0</td>\n",
       "      <td>0</td>\n",
       "      <td>...</td>\n",
       "      <td>0</td>\n",
       "      <td>0</td>\n",
       "      <td>0</td>\n",
       "      <td>0</td>\n",
       "      <td>0</td>\n",
       "      <td>0</td>\n",
       "      <td>0</td>\n",
       "      <td>0</td>\n",
       "      <td>0</td>\n",
       "      <td>0</td>\n",
       "    </tr>\n",
       "    <tr>\n",
       "      <th>3</th>\n",
       "      <td>0</td>\n",
       "      <td>0</td>\n",
       "      <td>0</td>\n",
       "      <td>0</td>\n",
       "      <td>0</td>\n",
       "      <td>0</td>\n",
       "      <td>0</td>\n",
       "      <td>0</td>\n",
       "      <td>0</td>\n",
       "      <td>0</td>\n",
       "      <td>...</td>\n",
       "      <td>0</td>\n",
       "      <td>0</td>\n",
       "      <td>0</td>\n",
       "      <td>0</td>\n",
       "      <td>0</td>\n",
       "      <td>0</td>\n",
       "      <td>0</td>\n",
       "      <td>0</td>\n",
       "      <td>0</td>\n",
       "      <td>0</td>\n",
       "    </tr>\n",
       "    <tr>\n",
       "      <th>4</th>\n",
       "      <td>0</td>\n",
       "      <td>0</td>\n",
       "      <td>0</td>\n",
       "      <td>0</td>\n",
       "      <td>0</td>\n",
       "      <td>0</td>\n",
       "      <td>0</td>\n",
       "      <td>0</td>\n",
       "      <td>0</td>\n",
       "      <td>0</td>\n",
       "      <td>...</td>\n",
       "      <td>0</td>\n",
       "      <td>0</td>\n",
       "      <td>0</td>\n",
       "      <td>0</td>\n",
       "      <td>0</td>\n",
       "      <td>0</td>\n",
       "      <td>0</td>\n",
       "      <td>0</td>\n",
       "      <td>0</td>\n",
       "      <td>0</td>\n",
       "    </tr>\n",
       "    <tr>\n",
       "      <th>5</th>\n",
       "      <td>0</td>\n",
       "      <td>0</td>\n",
       "      <td>0</td>\n",
       "      <td>0</td>\n",
       "      <td>0</td>\n",
       "      <td>0</td>\n",
       "      <td>0</td>\n",
       "      <td>0</td>\n",
       "      <td>0</td>\n",
       "      <td>0</td>\n",
       "      <td>...</td>\n",
       "      <td>0</td>\n",
       "      <td>0</td>\n",
       "      <td>0</td>\n",
       "      <td>0</td>\n",
       "      <td>0</td>\n",
       "      <td>0</td>\n",
       "      <td>0</td>\n",
       "      <td>0</td>\n",
       "      <td>0</td>\n",
       "      <td>0</td>\n",
       "    </tr>\n",
       "    <tr>\n",
       "      <th>6</th>\n",
       "      <td>0</td>\n",
       "      <td>0</td>\n",
       "      <td>0</td>\n",
       "      <td>0</td>\n",
       "      <td>0</td>\n",
       "      <td>0</td>\n",
       "      <td>0</td>\n",
       "      <td>0</td>\n",
       "      <td>0</td>\n",
       "      <td>0</td>\n",
       "      <td>...</td>\n",
       "      <td>0</td>\n",
       "      <td>0</td>\n",
       "      <td>0</td>\n",
       "      <td>0</td>\n",
       "      <td>0</td>\n",
       "      <td>0</td>\n",
       "      <td>0</td>\n",
       "      <td>0</td>\n",
       "      <td>0</td>\n",
       "      <td>0</td>\n",
       "    </tr>\n",
       "    <tr>\n",
       "      <th>7</th>\n",
       "      <td>0</td>\n",
       "      <td>0</td>\n",
       "      <td>0</td>\n",
       "      <td>0</td>\n",
       "      <td>0</td>\n",
       "      <td>0</td>\n",
       "      <td>0</td>\n",
       "      <td>0</td>\n",
       "      <td>0</td>\n",
       "      <td>0</td>\n",
       "      <td>...</td>\n",
       "      <td>0</td>\n",
       "      <td>0</td>\n",
       "      <td>0</td>\n",
       "      <td>0</td>\n",
       "      <td>0</td>\n",
       "      <td>0</td>\n",
       "      <td>0</td>\n",
       "      <td>0</td>\n",
       "      <td>0</td>\n",
       "      <td>0</td>\n",
       "    </tr>\n",
       "    <tr>\n",
       "      <th>8</th>\n",
       "      <td>0</td>\n",
       "      <td>0</td>\n",
       "      <td>0</td>\n",
       "      <td>0</td>\n",
       "      <td>0</td>\n",
       "      <td>0</td>\n",
       "      <td>0</td>\n",
       "      <td>0</td>\n",
       "      <td>0</td>\n",
       "      <td>0</td>\n",
       "      <td>...</td>\n",
       "      <td>0</td>\n",
       "      <td>0</td>\n",
       "      <td>0</td>\n",
       "      <td>0</td>\n",
       "      <td>0</td>\n",
       "      <td>0</td>\n",
       "      <td>0</td>\n",
       "      <td>0</td>\n",
       "      <td>0</td>\n",
       "      <td>0</td>\n",
       "    </tr>\n",
       "    <tr>\n",
       "      <th>9</th>\n",
       "      <td>0</td>\n",
       "      <td>0</td>\n",
       "      <td>0</td>\n",
       "      <td>0</td>\n",
       "      <td>0</td>\n",
       "      <td>0</td>\n",
       "      <td>0</td>\n",
       "      <td>0</td>\n",
       "      <td>0</td>\n",
       "      <td>0</td>\n",
       "      <td>...</td>\n",
       "      <td>0</td>\n",
       "      <td>0</td>\n",
       "      <td>0</td>\n",
       "      <td>0</td>\n",
       "      <td>0</td>\n",
       "      <td>0</td>\n",
       "      <td>0</td>\n",
       "      <td>0</td>\n",
       "      <td>0</td>\n",
       "      <td>0</td>\n",
       "    </tr>\n",
       "  </tbody>\n",
       "</table>\n",
       "<p>10 rows × 785 columns</p>\n",
       "</div>"
      ],
      "text/plain": [
       "   0  0.1  0.2  0.3  0.4  0.5  0.6  0.7  0.8  0.9  ...  0.639  0.640  0.641  \\\n",
       "0  0    0    0    0    0    0    0    0    0    0  ...      0      0      0   \n",
       "1  0    0    0    0    0    0    0    0    0    0  ...      0      0      0   \n",
       "2  0    0    0    0    0    0    0    0    0    0  ...      0      0      0   \n",
       "3  0    0    0    0    0    0    0    0    0    0  ...      0      0      0   \n",
       "4  0    0    0    0    0    0    0    0    0    0  ...      0      0      0   \n",
       "5  0    0    0    0    0    0    0    0    0    0  ...      0      0      0   \n",
       "6  0    0    0    0    0    0    0    0    0    0  ...      0      0      0   \n",
       "7  0    0    0    0    0    0    0    0    0    0  ...      0      0      0   \n",
       "8  0    0    0    0    0    0    0    0    0    0  ...      0      0      0   \n",
       "9  0    0    0    0    0    0    0    0    0    0  ...      0      0      0   \n",
       "\n",
       "   0.642  0.643  0.644  0.645  0.646  0.647  0.648  \n",
       "0      0      0      0      0      0      0      0  \n",
       "1      0      0      0      0      0      0      0  \n",
       "2      0      0      0      0      0      0      0  \n",
       "3      0      0      0      0      0      0      0  \n",
       "4      0      0      0      0      0      0      0  \n",
       "5      0      0      0      0      0      0      0  \n",
       "6      0      0      0      0      0      0      0  \n",
       "7      0      0      0      0      0      0      0  \n",
       "8      0      0      0      0      0      0      0  \n",
       "9      0      0      0      0      0      0      0  \n",
       "\n",
       "[10 rows x 785 columns]"
      ]
     },
     "execution_count": 2,
     "metadata": {},
     "output_type": "execute_result"
    }
   ],
   "source": [
    "file = 'project_dataset.csv'\n",
    "data = pd.read_csv(file)\n",
    "\n",
    "data.head(10)"
   ]
  },
  {
   "cell_type": "markdown",
   "metadata": {
    "id": "gRKvL9Uk-k6-"
   },
   "source": [
    "# Splitting data into their images and their labels"
   ]
  },
  {
   "cell_type": "markdown",
   "metadata": {
    "id": "kJ8BnpW8YmYz"
   },
   "source": [
    "We need to split the data into images and their respective labels.\n",
    "The ‘0’ column contains the labels, so we drop it from the data dataframe and use it separately as y to form the labels.\n",
    "\n"
   ]
  },
  {
   "cell_type": "code",
   "execution_count": 3,
   "metadata": {
    "colab": {
     "base_uri": "https://localhost:8080/",
     "height": 446
    },
    "id": "J9XJInkiSzSv",
    "outputId": "b5ef6e02-5112-4c84-d7b5-49a9c8684049"
   },
   "outputs": [
    {
     "data": {
      "text/html": [
       "<div>\n",
       "<style scoped>\n",
       "    .dataframe tbody tr th:only-of-type {\n",
       "        vertical-align: middle;\n",
       "    }\n",
       "\n",
       "    .dataframe tbody tr th {\n",
       "        vertical-align: top;\n",
       "    }\n",
       "\n",
       "    .dataframe thead th {\n",
       "        text-align: right;\n",
       "    }\n",
       "</style>\n",
       "<table border=\"1\" class=\"dataframe\">\n",
       "  <thead>\n",
       "    <tr style=\"text-align: right;\">\n",
       "      <th></th>\n",
       "      <th>0.1</th>\n",
       "      <th>0.2</th>\n",
       "      <th>0.3</th>\n",
       "      <th>0.4</th>\n",
       "      <th>0.5</th>\n",
       "      <th>0.6</th>\n",
       "      <th>0.7</th>\n",
       "      <th>0.8</th>\n",
       "      <th>0.9</th>\n",
       "      <th>0.10</th>\n",
       "      <th>...</th>\n",
       "      <th>0.639</th>\n",
       "      <th>0.640</th>\n",
       "      <th>0.641</th>\n",
       "      <th>0.642</th>\n",
       "      <th>0.643</th>\n",
       "      <th>0.644</th>\n",
       "      <th>0.645</th>\n",
       "      <th>0.646</th>\n",
       "      <th>0.647</th>\n",
       "      <th>0.648</th>\n",
       "    </tr>\n",
       "  </thead>\n",
       "  <tbody>\n",
       "    <tr>\n",
       "      <th>0</th>\n",
       "      <td>0</td>\n",
       "      <td>0</td>\n",
       "      <td>0</td>\n",
       "      <td>0</td>\n",
       "      <td>0</td>\n",
       "      <td>0</td>\n",
       "      <td>0</td>\n",
       "      <td>0</td>\n",
       "      <td>0</td>\n",
       "      <td>0</td>\n",
       "      <td>...</td>\n",
       "      <td>0</td>\n",
       "      <td>0</td>\n",
       "      <td>0</td>\n",
       "      <td>0</td>\n",
       "      <td>0</td>\n",
       "      <td>0</td>\n",
       "      <td>0</td>\n",
       "      <td>0</td>\n",
       "      <td>0</td>\n",
       "      <td>0</td>\n",
       "    </tr>\n",
       "    <tr>\n",
       "      <th>1</th>\n",
       "      <td>0</td>\n",
       "      <td>0</td>\n",
       "      <td>0</td>\n",
       "      <td>0</td>\n",
       "      <td>0</td>\n",
       "      <td>0</td>\n",
       "      <td>0</td>\n",
       "      <td>0</td>\n",
       "      <td>0</td>\n",
       "      <td>0</td>\n",
       "      <td>...</td>\n",
       "      <td>0</td>\n",
       "      <td>0</td>\n",
       "      <td>0</td>\n",
       "      <td>0</td>\n",
       "      <td>0</td>\n",
       "      <td>0</td>\n",
       "      <td>0</td>\n",
       "      <td>0</td>\n",
       "      <td>0</td>\n",
       "      <td>0</td>\n",
       "    </tr>\n",
       "    <tr>\n",
       "      <th>2</th>\n",
       "      <td>0</td>\n",
       "      <td>0</td>\n",
       "      <td>0</td>\n",
       "      <td>0</td>\n",
       "      <td>0</td>\n",
       "      <td>0</td>\n",
       "      <td>0</td>\n",
       "      <td>0</td>\n",
       "      <td>0</td>\n",
       "      <td>0</td>\n",
       "      <td>...</td>\n",
       "      <td>0</td>\n",
       "      <td>0</td>\n",
       "      <td>0</td>\n",
       "      <td>0</td>\n",
       "      <td>0</td>\n",
       "      <td>0</td>\n",
       "      <td>0</td>\n",
       "      <td>0</td>\n",
       "      <td>0</td>\n",
       "      <td>0</td>\n",
       "    </tr>\n",
       "    <tr>\n",
       "      <th>3</th>\n",
       "      <td>0</td>\n",
       "      <td>0</td>\n",
       "      <td>0</td>\n",
       "      <td>0</td>\n",
       "      <td>0</td>\n",
       "      <td>0</td>\n",
       "      <td>0</td>\n",
       "      <td>0</td>\n",
       "      <td>0</td>\n",
       "      <td>0</td>\n",
       "      <td>...</td>\n",
       "      <td>0</td>\n",
       "      <td>0</td>\n",
       "      <td>0</td>\n",
       "      <td>0</td>\n",
       "      <td>0</td>\n",
       "      <td>0</td>\n",
       "      <td>0</td>\n",
       "      <td>0</td>\n",
       "      <td>0</td>\n",
       "      <td>0</td>\n",
       "    </tr>\n",
       "    <tr>\n",
       "      <th>4</th>\n",
       "      <td>0</td>\n",
       "      <td>0</td>\n",
       "      <td>0</td>\n",
       "      <td>0</td>\n",
       "      <td>0</td>\n",
       "      <td>0</td>\n",
       "      <td>0</td>\n",
       "      <td>0</td>\n",
       "      <td>0</td>\n",
       "      <td>0</td>\n",
       "      <td>...</td>\n",
       "      <td>0</td>\n",
       "      <td>0</td>\n",
       "      <td>0</td>\n",
       "      <td>0</td>\n",
       "      <td>0</td>\n",
       "      <td>0</td>\n",
       "      <td>0</td>\n",
       "      <td>0</td>\n",
       "      <td>0</td>\n",
       "      <td>0</td>\n",
       "    </tr>\n",
       "  </tbody>\n",
       "</table>\n",
       "<p>5 rows × 784 columns</p>\n",
       "</div>"
      ],
      "text/plain": [
       "   0.1  0.2  0.3  0.4  0.5  0.6  0.7  0.8  0.9  0.10  ...  0.639  0.640  \\\n",
       "0    0    0    0    0    0    0    0    0    0     0  ...      0      0   \n",
       "1    0    0    0    0    0    0    0    0    0     0  ...      0      0   \n",
       "2    0    0    0    0    0    0    0    0    0     0  ...      0      0   \n",
       "3    0    0    0    0    0    0    0    0    0     0  ...      0      0   \n",
       "4    0    0    0    0    0    0    0    0    0     0  ...      0      0   \n",
       "\n",
       "   0.641  0.642  0.643  0.644  0.645  0.646  0.647  0.648  \n",
       "0      0      0      0      0      0      0      0      0  \n",
       "1      0      0      0      0      0      0      0      0  \n",
       "2      0      0      0      0      0      0      0      0  \n",
       "3      0      0      0      0      0      0      0      0  \n",
       "4      0      0      0      0      0      0      0      0  \n",
       "\n",
       "[5 rows x 784 columns]"
      ]
     },
     "metadata": {},
     "output_type": "display_data"
    },
    {
     "data": {
      "text/plain": [
       "0          0\n",
       "1          0\n",
       "2          0\n",
       "3          0\n",
       "4          0\n",
       "          ..\n",
       "372445    25\n",
       "372446    25\n",
       "372447    25\n",
       "372448    25\n",
       "372449    25\n",
       "Name: 0, Length: 372450, dtype: int64"
      ]
     },
     "metadata": {},
     "output_type": "display_data"
    }
   ],
   "source": [
    "x = data.drop('0',axis = 1)\n",
    "y = data['0']\n",
    "\n",
    "display(x.head(5))\n",
    "display(y)"
   ]
  },
  {
   "cell_type": "markdown",
   "metadata": {
    "id": "-_B029zb_9-O"
   },
   "source": [
    "# Splitting and Reshaping data\n",
    "\n",
    "*   Then we split the data into training & testing dataset using train_test_split().\n",
    "*   We reshape the data into the orignal 28x28 pixels image, as the CSV file contains the data for the values of pixels in 784 columns.\n",
    "\n"
   ]
  },
  {
   "cell_type": "code",
   "execution_count": 4,
   "metadata": {
    "colab": {
     "base_uri": "https://localhost:8080/"
    },
    "id": "fu_b0Av2TdU2",
    "outputId": "ec607e5e-96ec-405b-d6d4-b6a222afc6b5"
   },
   "outputs": [
    {
     "name": "stdout",
     "output_type": "stream",
     "text": [
      "Train data shape:  (297960, 28, 28)\n",
      "Test data shape:  (74490, 28, 28)\n"
     ]
    }
   ],
   "source": [
    "train_x, test_x, train_y, test_y = train_test_split(x, y, test_size = 0.2)\n",
    "\n",
    "train_x = np.reshape(train_x.values, (train_x.shape[0], 28,28))\n",
    "test_x = np.reshape(test_x.values, (test_x.shape[0], 28,28))\n",
    "\n",
    "print(\"Train data shape: \", train_x.shape)\n",
    "print(\"Test data shape: \", test_x.shape)"
   ]
  },
  {
   "cell_type": "markdown",
   "metadata": {
    "id": "VTgfsXc_A4ep"
   },
   "source": [
    "# Putting integers as labels for each alphabet"
   ]
  },
  {
   "cell_type": "markdown",
   "metadata": {
    "id": "a35l9wuGY6u2"
   },
   "source": [
    "All the labels are present in the form of floating point values, that we convert to integer values. So we create a dictionary to map the integer values with the characters."
   ]
  },
  {
   "cell_type": "code",
   "execution_count": 5,
   "metadata": {
    "id": "aRShF1NGTvzs"
   },
   "outputs": [],
   "source": [
    "word_dict = {0:'A',1:'B',2:'C',3:'D',4:'E',5:'F',6:'G',7:'H',8:'I',9:'J',10:'K',\n",
    "             11:'L',12:'M',13:'N',14:'O',15:'P',16:'Q',17:'R',18:'S',19:'T',\n",
    "             20:'U',21:'V',22:'W',23:'X', 24:'Y',25:'Z'}"
   ]
  },
  {
   "cell_type": "markdown",
   "metadata": {
    "id": "c654sZeNDX1c"
   },
   "source": [
    "# Showing the image count of each alphabet"
   ]
  },
  {
   "cell_type": "markdown",
   "metadata": {
    "id": "SghuUPgwZFJi"
   },
   "source": [
    "Here we are only describing the distribution of the alphabets.\n",
    "Firstly, we convert the labels into integer values and append them into the count list according to the label. This count list has the number of images present in the dataset belonging to each alphabet.\n",
    "Now we create a list of alphabets containing all the characters using the values() function of the dictionary. Using the count & alphabets lists we draw the horizontal bar plot."
   ]
  },
  {
   "cell_type": "code",
   "execution_count": 6,
   "metadata": {
    "colab": {
     "base_uri": "https://localhost:8080/",
     "height": 1000
    },
    "id": "I_Y6cUa1UYeq",
    "outputId": "2d4dac2d-6d50-4719-833c-26a8b7e70cdd"
   },
   "outputs": [
    {
     "data": {
      "text/plain": [
       "{'A': 13869,\n",
       " 'B': 8668,\n",
       " 'C': 23409,\n",
       " 'D': 10134,\n",
       " 'E': 11440,\n",
       " 'F': 1163,\n",
       " 'G': 5762,\n",
       " 'H': 7218,\n",
       " 'I': 1120,\n",
       " 'J': 8493,\n",
       " 'K': 5603,\n",
       " 'L': 11586,\n",
       " 'M': 12336,\n",
       " 'N': 19010,\n",
       " 'O': 57825,\n",
       " 'P': 19341,\n",
       " 'Q': 5812,\n",
       " 'R': 11566,\n",
       " 'S': 48419,\n",
       " 'T': 22495,\n",
       " 'U': 29008,\n",
       " 'V': 4182,\n",
       " 'W': 10784,\n",
       " 'X': 6272,\n",
       " 'Y': 10859,\n",
       " 'Z': 6076}"
      ]
     },
     "metadata": {},
     "output_type": "display_data"
    },
    {
     "data": {
      "image/png": "[encoded data removed]",
      "text/plain": [
       "<Figure size 720x720 with 1 Axes>"
      ]
     },
     "metadata": {
      "needs_background": "light"
     },
     "output_type": "display_data"
    }
   ],
   "source": [
    "y_int = np.int0(y)\n",
    "count = np.zeros(26, dtype='int')\n",
    "\n",
    "for i in y_int:\n",
    "    count[i] +=1\n",
    "\n",
    "alphabets = []\n",
    "\n",
    "for i in word_dict.values():\n",
    "    alphabets.append(i)\n",
    "\n",
    "total_count = {alphabets[i]: count[i] for i in range(len(alphabets))}\n",
    "\n",
    "display(total_count)\n",
    "\n",
    "fig, ax = plt.subplots(1,1, figsize=(10,10))\n",
    "ax.barh(alphabets, count)\n",
    "\n",
    "plt.xlabel(\"Number of elements \")\n",
    "plt.ylabel(\"Alphabets\")\n",
    "plt.grid()\n",
    "plt.show()"
   ]
  },
  {
   "cell_type": "markdown",
   "metadata": {
    "id": "7bQZDvjVFdIy"
   },
   "source": [
    "# Randomly plotting 9 images as an example for the data"
   ]
  },
  {
   "cell_type": "markdown",
   "metadata": {
    "id": "NCKljGg-ZXql"
   },
   "source": [
    "Now we shuffle some of the images of the train set. The shuffling is done using the shuffle() function so that we can display some random images. We then create 9 plots in 3×3 shape & display the thresholded images of 9 alphabets."
   ]
  },
  {
   "cell_type": "code",
   "execution_count": 7,
   "metadata": {
    "colab": {
     "base_uri": "https://localhost:8080/",
     "height": 593
    },
    "id": "BNVPAHqrUmyZ",
    "outputId": "04a5bc7a-3a9c-4da5-e0ed-71d637366238"
   },
   "outputs": [
    {
     "data": {
      "image/png": "[encoded data removed]",
      "text/plain": [
       "<Figure size 720x720 with 9 Axes>"
      ]
     },
     "metadata": {
      "needs_background": "light"
     },
     "output_type": "display_data"
    }
   ],
   "source": [
    "shuff = shuffle(train_x[:100])\n",
    "shuff = shuff.astype(np.uint8)\n",
    "\n",
    "fig, ax = plt.subplots(3,3, figsize = (10,10))\n",
    "axes = ax.flatten()\n",
    "\n",
    "for i in range(9):\n",
    "    a, shu = cv2.threshold(shuff[i], 30, 200, cv2.THRESH_BINARY)\n",
    "    axes[i].imshow(np.reshape(shu, (28,28)), cmap=\"Greys\")\n",
    "\n",
    "plt.show()"
   ]
  },
  {
   "cell_type": "markdown",
   "metadata": {
    "id": "AXXcVdKVGgEE"
   },
   "source": [
    "# Reshaping the data\n",
    "\n"
   ]
  },
  {
   "cell_type": "markdown",
   "metadata": {
    "id": "xZPzlsS-bArq"
   },
   "source": [
    "Now we reshape the train & test image dataset so that they can be put in the model."
   ]
  },
  {
   "cell_type": "code",
   "execution_count": 21,
   "metadata": {
    "colab": {
     "base_uri": "https://localhost:8080/"
    },
    "id": "3DpNaF8bAI3e",
    "outputId": "b6bd47d2-faee-4cb1-a5fa-d708a4dc2f44"
   },
   "outputs": [
    {
     "name": "stdout",
     "output_type": "stream",
     "text": [
      "New shape of train data:  (297960, 28, 28, 1)\n",
      "New shape of train data:  (74490, 28, 28, 1)\n",
      "New shape of train labels:  (297960, 26)\n",
      "New shape of test labels:  (74490, 26)\n"
     ]
    }
   ],
   "source": [
    "train_X = train_x.reshape(train_x.shape[0],train_x.shape[1],train_x.shape[2],1)\n",
    "print(\"New shape of train data: \", train_X.shape)\n",
    "\n",
    "test_X = test_x.reshape(test_x.shape[0], test_x.shape[1], test_x.shape[2],1)\n",
    "print(\"New shape of train data: \", test_X.shape)\n",
    "\n",
    "train_y_cat = to_categorical(train_y, num_classes = 26, dtype='int')\n",
    "print(\"New shape of train labels: \", train_y_cat.shape)\n",
    "\n",
    "test_y_cat = to_categorical(test_y, num_classes = 26, dtype='int')\n",
    "print(\"New shape of test labels: \", test_y_cat.shape)"
   ]
  },
  {
   "cell_type": "markdown",
   "metadata": {
    "id": "uDqfi-xPTdtp"
   },
   "source": [
    "# Model Designing"
   ]
  },
  {
   "cell_type": "markdown",
   "metadata": {
    "id": "VbvTSRqXbFN-"
   },
   "source": [
    "CNN stands for Convolutional Neural Networks that are used to extract the features of the images using several layers of filters.\n",
    "The convolution layers are generally followed by maxpool layers that are used to reduce the number of features extracted and ultimately the output of the maxpool and layers and convolution layers are flattened into a vector of single dimension and are given as an input to the Dense layer (The fully connected network)."
   ]
  },
  {
   "cell_type": "code",
   "execution_count": 10,
   "metadata": {
    "id": "2PaET2kaFDq3"
   },
   "outputs": [],
   "source": [
    "model = Sequential()\n",
    "\n",
    "model.add(Conv2D(filters=32, kernel_size=(3, 3), activation='relu', input_shape=(28,28,1)))\n",
    "model.add(MaxPool2D(pool_size=(2, 2), strides=2))\n",
    "\n",
    "model.add(Conv2D(filters=64, kernel_size=(3, 3), activation='relu', padding = 'same'))\n",
    "model.add(MaxPool2D(pool_size=(2, 2), strides=2))\n",
    "\n",
    "model.add(Conv2D(filters=128, kernel_size=(3, 3), activation='relu', padding = 'valid'))\n",
    "model.add(MaxPool2D(pool_size=(2, 2), strides=2))\n",
    "\n",
    "model.add(Flatten())\n",
    "\n",
    "model.add(Dense(64,activation =\"relu\"))\n",
    "model.add(Dense(128,activation =\"relu\"))\n",
    "\n",
    "model.add(Dense(26,activation =\"softmax\"))"
   ]
  },
  {
   "cell_type": "markdown",
   "metadata": {
    "id": "qjbFoxxObRa3"
   },
   "source": [
    "# Model Compilation and Fitting"
   ]
  },
  {
   "cell_type": "markdown",
   "metadata": {
    "id": "W_tFnu6_bYP8"
   },
   "source": [
    "* Here we are compiling the model, where we define the optimizing function & the loss function to be used for fitting.\n",
    "* The optimizing function used is Adam, that is a combination of RMSprop & Adagram optimizing algorithms.\n",
    "* The dataset is very large so we are training for only a single epoch.\n",
    "* Then we get the model summary that tells us what were the different layers defined in the model & also we save the model."
   ]
  },
  {
   "cell_type": "code",
   "execution_count": 11,
   "metadata": {
    "colab": {
     "base_uri": "https://localhost:8080/"
    },
    "id": "i7X4wjTEfAsS",
    "outputId": "cb96fc70-c096-4a1c-d6eb-830eb4126489",
    "scrolled": false
   },
   "outputs": [
    {
     "name": "stdout",
     "output_type": "stream",
     "text": [
      "Epoch 1/20\n",
      "596/596 - 178s - loss: 0.4735 - accuracy: 0.8963 - val_loss: 0.0869 - val_accuracy: 0.9762\n",
      "Epoch 2/20\n",
      "596/596 - 160s - loss: 0.0708 - accuracy: 0.9798 - val_loss: 0.0692 - val_accuracy: 0.9805\n",
      "Epoch 3/20\n",
      "596/596 - 168s - loss: 0.0510 - accuracy: 0.9853 - val_loss: 0.0582 - val_accuracy: 0.9837\n",
      "Epoch 4/20\n",
      "596/596 - 177s - loss: 0.0404 - accuracy: 0.9884 - val_loss: 0.0491 - val_accuracy: 0.9864\n",
      "Epoch 5/20\n",
      "596/596 - 171s - loss: 0.0352 - accuracy: 0.9894 - val_loss: 0.0503 - val_accuracy: 0.9862\n",
      "Epoch 6/20\n",
      "596/596 - 169s - loss: 0.0296 - accuracy: 0.9912 - val_loss: 0.0408 - val_accuracy: 0.9893\n",
      "Epoch 7/20\n",
      "596/596 - 172s - loss: 0.0279 - accuracy: 0.9914 - val_loss: 0.0582 - val_accuracy: 0.9846\n",
      "Epoch 8/20\n",
      "596/596 - 170s - loss: 0.0231 - accuracy: 0.9927 - val_loss: 0.0402 - val_accuracy: 0.9892\n",
      "Epoch 9/20\n",
      "596/596 - 171s - loss: 0.0224 - accuracy: 0.9930 - val_loss: 0.0395 - val_accuracy: 0.9897\n",
      "Epoch 10/20\n",
      "596/596 - 166s - loss: 0.0215 - accuracy: 0.9933 - val_loss: 0.0347 - val_accuracy: 0.9911\n",
      "Epoch 11/20\n",
      "596/596 - 169s - loss: 0.0178 - accuracy: 0.9943 - val_loss: 0.0384 - val_accuracy: 0.9904\n",
      "Epoch 12/20\n",
      "596/596 - 168s - loss: 0.0177 - accuracy: 0.9946 - val_loss: 0.0501 - val_accuracy: 0.9872\n",
      "Epoch 13/20\n",
      "596/596 - 170s - loss: 0.0156 - accuracy: 0.9949 - val_loss: 0.0399 - val_accuracy: 0.9907\n",
      "Epoch 14/20\n",
      "596/596 - 168s - loss: 0.0159 - accuracy: 0.9948 - val_loss: 0.0381 - val_accuracy: 0.9918\n",
      "Epoch 15/20\n",
      "596/596 - 162s - loss: 0.0141 - accuracy: 0.9954 - val_loss: 0.0676 - val_accuracy: 0.9858\n",
      "Epoch 16/20\n",
      "596/596 - 160s - loss: 0.0137 - accuracy: 0.9955 - val_loss: 0.0366 - val_accuracy: 0.9915\n",
      "Epoch 17/20\n",
      "596/596 - 169s - loss: 0.0129 - accuracy: 0.9958 - val_loss: 0.0403 - val_accuracy: 0.9918\n",
      "Epoch 18/20\n",
      "596/596 - 172s - loss: 0.0114 - accuracy: 0.9963 - val_loss: 0.0384 - val_accuracy: 0.9922\n",
      "Epoch 19/20\n",
      "596/596 - 173s - loss: 0.0118 - accuracy: 0.9962 - val_loss: 0.0431 - val_accuracy: 0.9918\n",
      "Epoch 20/20\n",
      "596/596 - 171s - loss: 0.0108 - accuracy: 0.9966 - val_loss: 0.0367 - val_accuracy: 0.9930\n"
     ]
    }
   ],
   "source": [
    "model.compile(optimizer = 'adam', loss='categorical_crossentropy', metrics=['accuracy'])\n",
    "\n",
    "history = model.fit(train_X, train_y_cat, epochs=20, batch_size = 500, validation_data = (test_X,test_y_cat), verbose = 2)"
   ]
  },
  {
   "cell_type": "code",
   "execution_count": 12,
   "metadata": {
    "id": "sB_puqL0saRq",
    "scrolled": false
   },
   "outputs": [
    {
     "name": "stdout",
     "output_type": "stream",
     "text": [
      "Model: \"sequential\"\n",
      "_________________________________________________________________\n",
      "Layer (type)                 Output Shape              Param #   \n",
      "=================================================================\n",
      "conv2d (Conv2D)              (None, 26, 26, 32)        320       \n",
      "_________________________________________________________________\n",
      "max_pooling2d (MaxPooling2D) (None, 13, 13, 32)        0         \n",
      "_________________________________________________________________\n",
      "conv2d_1 (Conv2D)            (None, 13, 13, 64)        18496     \n",
      "_________________________________________________________________\n",
      "max_pooling2d_1 (MaxPooling2 (None, 6, 6, 64)          0         \n",
      "_________________________________________________________________\n",
      "conv2d_2 (Conv2D)            (None, 4, 4, 128)         73856     \n",
      "_________________________________________________________________\n",
      "max_pooling2d_2 (MaxPooling2 (None, 2, 2, 128)         0         \n",
      "_________________________________________________________________\n",
      "flatten (Flatten)            (None, 512)               0         \n",
      "_________________________________________________________________\n",
      "dense (Dense)                (None, 64)                32832     \n",
      "_________________________________________________________________\n",
      "dense_1 (Dense)              (None, 128)               8320      \n",
      "_________________________________________________________________\n",
      "dense_2 (Dense)              (None, 26)                3354      \n",
      "=================================================================\n",
      "Total params: 137,178\n",
      "Trainable params: 137,178\n",
      "Non-trainable params: 0\n",
      "_________________________________________________________________\n"
     ]
    }
   ],
   "source": [
    "model.summary()\n",
    "model.save(r'model_hand.h5')"
   ]
  },
  {
   "cell_type": "markdown",
   "metadata": {
    "id": "FBLTuWWpohgo"
   },
   "source": [
    "We print out the training & validation accuracies along with the training & validation losses for character recognition."
   ]
  },
  {
   "cell_type": "code",
   "execution_count": 19,
   "metadata": {
    "id": "TAQvnUIciCFd"
   },
   "outputs": [
    {
     "name": "stdout",
     "output_type": "stream",
     "text": [
      "dict_keys(['loss', 'accuracy', 'val_loss', 'val_accuracy'])\n"
     ]
    },
    {
     "data": {
      "image/png": "[encoded data removed]",
      "text/plain": [
       "<Figure size 432x288 with 1 Axes>"
      ]
     },
     "metadata": {
      "needs_background": "light"
     },
     "output_type": "display_data"
    },
    {
     "data": {
      "image/png": "[encoded data removed]",
      "text/plain": [
       "<Figure size 432x288 with 1 Axes>"
      ]
     },
     "metadata": {
      "needs_background": "light"
     },
     "output_type": "display_data"
    }
   ],
   "source": [
    "print(history.history.keys())\n",
    "\n",
    "# summarize history for accuracy\n",
    "plt.plot(history.history['accuracy'])\n",
    "plt.plot(history.history['val_accuracy'])\n",
    "plt.title('model accuracy')\n",
    "plt.ylabel('accuracy')\n",
    "plt.xlabel('epoch')\n",
    "plt.legend(['train', 'test'], loc='lower right')\n",
    "plt.show()\n",
    "# summarize history for loss\n",
    "plt.plot(history.history['loss'])\n",
    "plt.plot(history.history['val_loss'])\n",
    "plt.title('model loss')\n",
    "plt.ylabel('loss')\n",
    "plt.xlabel('epoch')\n",
    "plt.legend(['train', 'test'], loc='upper right')\n",
    "plt.show()"
   ]
  },
  {
   "cell_type": "markdown",
   "metadata": {
    "id": "dWDe7qeKop14"
   },
   "source": [
    "# Testing the model"
   ]
  },
  {
   "cell_type": "markdown",
   "metadata": {
    "id": "DRwL6KTkos85"
   },
   "source": [
    "We create 9 subplots of (3,3) shape & visualize some of the test dataset alphabets along with their predictions that are made using the model.predict() function."
   ]
  },
  {
   "cell_type": "code",
   "execution_count": 14,
   "metadata": {
    "id": "w-joFgy_iMKh"
   },
   "outputs": [
    {
     "data": {
      "image/png": "[encoded data removed]",
      "text/plain": [
       "<Figure size 576x648 with 9 Axes>"
      ]
     },
     "metadata": {
      "needs_background": "light"
     },
     "output_type": "display_data"
    }
   ],
   "source": [
    "fig, axes = plt.subplots(3,3, figsize=(8,9))\n",
    "axes = axes.flatten()\n",
    "\n",
    "for i,ax in enumerate(axes):\n",
    "    img = np.reshape(test_X[i], (28,28))\n",
    "    ax.imshow(img, cmap=\"Greys\")\n",
    "    \n",
    "    pred = word_dict[np.argmax(test_y_cat[i])]\n",
    "    ax.set_title(\"Prediction: \"+pred)\n",
    "    ax.grid()"
   ]
  },
  {
   "cell_type": "markdown",
   "metadata": {
    "id": "v95B1rA2o71A"
   },
   "source": [
    "# Predicting using an external image"
   ]
  },
  {
   "cell_type": "markdown",
   "metadata": {
    "id": "LMmHAti4o_s6"
   },
   "source": [
    "We read an external image that is originally an image of the alphabet ‘B’ and make a copy of it to process and feed into the model for the prediction.\n",
    "The img read is then converted from BGR representation (as OpenCV reads the image in BGR format) to RGB for displaying the image, and is resized to our required dimensions."
   ]
  },
  {
   "cell_type": "code",
   "execution_count": 2,
   "metadata": {
    "id": "ha32U9b5jKAp"
   },
   "outputs": [],
   "source": [
    "file2 = 'char.jpg'\n",
    "img = cv2.imread(file2)\n",
    "img_copy = img.copy()\n",
    "\n",
    "img = cv2.cvtColor(img, cv2.COLOR_BGR2RGB)\n",
    "img = cv2.resize(img, (400,440))"
   ]
  },
  {
   "cell_type": "markdown",
   "metadata": {
    "id": "m5hnOvl0pH-q"
   },
   "source": [
    "Now we do some processing on the copied image (img_copy). We convert the image from BGR to grayscale and apply thresholding to it to keep the image smooth without any sort of hazy gray colors in the image that could lead to wrong predictions.\n",
    "The image is to be then resized using cv2.resize() function into the dimensions that the model takes as input, along with reshaping the image using np.reshape() so that it can be used as model input."
   ]
  },
  {
   "cell_type": "code",
   "execution_count": 3,
   "metadata": {
    "id": "vebRbGr0kxMr"
   },
   "outputs": [],
   "source": [
    "img_copy = cv2.GaussianBlur(img_copy, (7,7), 0)\n",
    "img_gray = cv2.cvtColor(img_copy, cv2.COLOR_BGR2GRAY)\n",
    "_, img_thresh = cv2.threshold(img_gray, 100, 255, cv2.THRESH_BINARY_INV)\n",
    "\n",
    "img_final = cv2.resize(img_thresh, (28,28))\n",
    "img_final =np.reshape(img_final, (1,28,28,1))"
   ]
  },
  {
   "cell_type": "markdown",
   "metadata": {
    "id": "0T_30Gpnp22p"
   },
   "source": [
    "We make a prediction using the processed image & use the np.argmax() function to get the index of the class with the highest predicted probability. Using this we get to know the exact character through the word_dict dictionary."
   ]
  },
  {
   "cell_type": "code",
   "execution_count": 4,
   "metadata": {
    "id": "B-2TDbjMk3Ub"
   },
   "outputs": [],
   "source": [
    "word_dict = {0:'A',1:'B',2:'C',3:'D',4:'E',5:'F',6:'G',7:'H',8:'I',9:'J',10:'K',\n",
    "             11:'L',12:'M',13:'N',14:'O',15:'P',16:'Q',17:'R',18:'S',19:'T',\n",
    "             20:'U',21:'V',22:'W',23:'X', 24:'Y',25:'Z'}\n",
    "\n",
    "model1 = keras.models.load_model(\"model_hand.h5\")\n",
    "\n",
    "img_pred = word_dict[np.argmax(model1.predict(img_final))]\n",
    "\n",
    "cv2.putText(img, \"Prediction: \" + img_pred, (20,410), cv2.FONT_HERSHEY_DUPLEX, 1.3, color = (255,0,30))\n",
    "cv2.imshow('test',img)\n",
    "\n",
    "while (1):\n",
    "    k = cv2.waitKey(1) & 0xFF\n",
    "    if k == 27:\n",
    "        break\n",
    "\n",
    "cv2.destroyAllWindows()"
   ]
  },
  {
   "cell_type": "code",
   "execution_count": null,
   "metadata": {},
   "outputs": [],
   "source": []
  }
 ],
 "metadata": {
  "colab": {
   "collapsed_sections": [],
   "name": "PR project",
   "provenance": []
  },
  "kernelspec": {
   "display_name": "Python 3",
   "language": "python",
   "name": "python3"
  },
  "language_info": {
   "codemirror_mode": {
    "name": "ipython",
    "version": 3
   },
   "file_extension": ".py",
   "mimetype": "text/x-python",
   "name": "python",
   "nbconvert_exporter": "python",
   "pygments_lexer": "ipython3",
   "version": "3.8.8"
  }
 },
 "nbformat": 4,
 "nbformat_minor": 1
}
